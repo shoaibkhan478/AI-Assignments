{
 "cells": [
  {
   "cell_type": "markdown",
   "id": "fd3f595c",
   "metadata": {},
   "source": [
    "# Numpy Assignment"
   ]
  },
  {
   "cell_type": "code",
   "execution_count": 3,
   "id": "06694e73",
   "metadata": {},
   "outputs": [
    {
     "data": {
      "text/plain": [
       "array([1, 2, 3, 4])"
      ]
     },
     "execution_count": 3,
     "metadata": {},
     "output_type": "execute_result"
    }
   ],
   "source": [
    "import numpy as np\n",
    "\n",
    "np.array([1, 2, 3, 4])\n"
   ]
  },
  {
   "cell_type": "code",
   "execution_count": null,
   "id": "200752c1",
   "metadata": {},
   "outputs": [],
   "source": []
  },
  {
   "cell_type": "markdown",
   "id": "88b92f22",
   "metadata": {},
   "source": [
    "## Numpyy arry with elements [15,25,35,45,55]"
   ]
  },
  {
   "cell_type": "code",
   "execution_count": null,
   "id": "5a08200a",
   "metadata": {},
   "outputs": [
    {
     "data": {
      "text/plain": [
       "array([15, 25, 35, 45, 55])"
      ]
     },
     "execution_count": 6,
     "metadata": {},
     "output_type": "execute_result"
    }
   ],
   "source": [
    "\n",
    "np.array([15,25,35,45,55])"
   ]
  },
  {
   "cell_type": "code",
   "execution_count": null,
   "id": "3705d2ef",
   "metadata": {},
   "outputs": [],
   "source": []
  },
  {
   "cell_type": "markdown",
   "id": "640e2dbf",
   "metadata": {},
   "source": [
    "## Creat array 2D with value [[20,40,60],[80,100,150]] "
   ]
  },
  {
   "cell_type": "code",
   "execution_count": null,
   "id": "3996cf91",
   "metadata": {},
   "outputs": [
    {
     "data": {
      "text/plain": [
       "array([[ 20,  40,  60],\n",
       "       [ 80, 100, 150]])"
      ]
     },
     "execution_count": 8,
     "metadata": {},
     "output_type": "execute_result"
    }
   ],
   "source": [
    "\n",
    "np.array([[20,40,60],[80,100,150]])"
   ]
  },
  {
   "cell_type": "markdown",
   "id": "5c337020",
   "metadata": {},
   "source": [
    "## Creat array 2D with values [[10,20,30],[40,50,60]]"
   ]
  },
  {
   "cell_type": "code",
   "execution_count": null,
   "id": "47ec8616",
   "metadata": {},
   "outputs": [
    {
     "data": {
      "text/plain": [
       "array([[10, 20, 30],\n",
       "       [40, 50, 60]])"
      ]
     },
     "execution_count": 9,
     "metadata": {},
     "output_type": "execute_result"
    }
   ],
   "source": [
    "\n",
    "np.array( [[10,20,30],[40,50,60]])"
   ]
  },
  {
   "cell_type": "markdown",
   "id": "01b6e165",
   "metadata": {},
   "source": [
    "## Add 5 to [1,2,3,4,5]"
   ]
  },
  {
   "cell_type": "code",
   "execution_count": 13,
   "id": "fae14f93",
   "metadata": {},
   "outputs": [
    {
     "data": {
      "text/plain": [
       "array([[ 6,  7,  8,  9, 10]])"
      ]
     },
     "execution_count": 13,
     "metadata": {},
     "output_type": "execute_result"
    }
   ],
   "source": [
    "np.array([[1,2,3,4,5]]) + 5"
   ]
  },
  {
   "cell_type": "markdown",
   "id": "bb70a05e",
   "metadata": {},
   "source": [
    "7. ## Add 10 to [10,20,30,40]."
   ]
  },
  {
   "cell_type": "code",
   "execution_count": 14,
   "id": "38244612",
   "metadata": {},
   "outputs": [
    {
     "data": {
      "text/plain": [
       "array([20, 30, 40, 50])"
      ]
     },
     "execution_count": 14,
     "metadata": {},
     "output_type": "execute_result"
    }
   ],
   "source": [
    "np.array([10,20,30,40])+10"
   ]
  },
  {
   "cell_type": "markdown",
   "id": "89579407",
   "metadata": {},
   "source": []
  },
  {
   "cell_type": "code",
   "execution_count": 15,
   "id": "e276d239",
   "metadata": {},
   "outputs": [
    {
     "data": {
      "text/plain": [
       "array([0, 3, 6, 9])"
      ]
     },
     "execution_count": 15,
     "metadata": {},
     "output_type": "execute_result"
    }
   ],
   "source": [
    "# Add -3 to [3,6,9,12].\n",
    "np.array([3,6,9,12])-3"
   ]
  },
  {
   "cell_type": "code",
   "execution_count": null,
   "id": "0b2a1803",
   "metadata": {},
   "outputs": [],
   "source": []
  },
  {
   "cell_type": "code",
   "execution_count": 16,
   "id": "b7f73c23",
   "metadata": {},
   "outputs": [
    {
     "data": {
      "text/plain": [
       "array([100, 150, 200])"
      ]
     },
     "execution_count": 16,
     "metadata": {},
     "output_type": "execute_result"
    }
   ],
   "source": [
    "# Add 100 to [0,50,100].\n",
    "np.array([0,50,100])+100"
   ]
  },
  {
   "cell_type": "code",
   "execution_count": 17,
   "id": "512f984b",
   "metadata": {},
   "outputs": [
    {
     "data": {
      "text/plain": [
       "array([2.5, 3.5, 4.5])"
      ]
     },
     "execution_count": 17,
     "metadata": {},
     "output_type": "execute_result"
    }
   ],
   "source": [
    "# Add 2 to [0.5,1.5,2.5].\n",
    "np.array([0.5,1.5,2.5])+2"
   ]
  },
  {
   "cell_type": "code",
   "execution_count": null,
   "id": "8c3bfcb2",
   "metadata": {},
   "outputs": [],
   "source": []
  },
  {
   "cell_type": "code",
   "execution_count": 18,
   "id": "ba0b8959",
   "metadata": {},
   "outputs": [
    {
     "data": {
      "text/plain": [
       "array([17, 22, 27, 32, 37])"
      ]
     },
     "execution_count": 18,
     "metadata": {},
     "output_type": "execute_result"
    }
   ],
   "source": [
    "# Add 7 to [10,15,20,25,30].\n",
    "np.array([10,15,20,25,30])+7"
   ]
  },
  {
   "cell_type": "code",
   "execution_count": 19,
   "id": "ec234498",
   "metadata": {},
   "outputs": [
    {
     "data": {
      "text/plain": [
       "array([101, 201, 301])"
      ]
     },
     "execution_count": 19,
     "metadata": {},
     "output_type": "execute_result"
    }
   ],
   "source": [
    "# Add 1 to all elements of [100,200,300].\n",
    "np.array([100,200,300])+1"
   ]
  },
  {
   "cell_type": "code",
   "execution_count": 20,
   "id": "2fed24ed",
   "metadata": {},
   "outputs": [
    {
     "data": {
      "text/plain": [
       "array([ 5, 10, 15, 20])"
      ]
     },
     "execution_count": 20,
     "metadata": {},
     "output_type": "execute_result"
    }
   ],
   "source": [
    "\n",
    "# Add 50 to [5,10,15,20].\n",
    "np.array([5,10,15,20])"
   ]
  },
  {
   "cell_type": "code",
   "execution_count": 21,
   "id": "1ef67b9c",
   "metadata": {},
   "outputs": [
    {
     "data": {
      "text/plain": [
       "array([0.5 , 0.75, 1.  ])"
      ]
     },
     "execution_count": 21,
     "metadata": {},
     "output_type": "execute_result"
    }
   ],
   "source": [
    "# 13. Add 0.25 to [0.25,0.5,0.75].\n",
    "np.array([0.25,0.5,0.75]) + 0.25"
   ]
  },
  {
   "cell_type": "code",
   "execution_count": 22,
   "id": "9cabdaf7",
   "metadata": {},
   "outputs": [
    {
     "data": {
      "text/plain": [
       "array([ 5, 10, 15])"
      ]
     },
     "execution_count": 22,
     "metadata": {},
     "output_type": "execute_result"
    }
   ],
   "source": [
    "# 14. Subtract 2 from [5,10,15].\n",
    "np.array([5,10,15])"
   ]
  },
  {
   "cell_type": "code",
   "execution_count": 23,
   "id": "6c77bcff",
   "metadata": {},
   "outputs": [
    {
     "data": {
      "text/plain": [
       "array([20, 30, 40])"
      ]
     },
     "execution_count": 23,
     "metadata": {},
     "output_type": "execute_result"
    }
   ],
   "source": [
    "# 15. Subtract 10 from [20,30,40].\n",
    "np.array([20,30,40])"
   ]
  },
  {
   "cell_type": "code",
   "execution_count": 24,
   "id": "dbbbda22",
   "metadata": {},
   "outputs": [
    {
     "data": {
      "text/plain": [
       "array([1, 2, 3, 4, 5])"
      ]
     },
     "execution_count": 24,
     "metadata": {},
     "output_type": "execute_result"
    }
   ],
   "source": [
    "# Subtract 1 from [1,2,3,4,5].\n",
    "np.array([1,2,3,4,5])"
   ]
  },
  {
   "cell_type": "code",
   "execution_count": 25,
   "id": "fec8de06",
   "metadata": {},
   "outputs": [
    {
     "data": {
      "text/plain": [
       "array([200, 300, 400])"
      ]
     },
     "execution_count": 25,
     "metadata": {},
     "output_type": "execute_result"
    }
   ],
   "source": [
    "# 17. Subtract 100 from [200,300,400].\n",
    "np.array([200,300,400])"
   ]
  },
  {
   "cell_type": "code",
   "execution_count": 26,
   "id": "83fbdf78",
   "metadata": {},
   "outputs": [
    {
     "data": {
      "text/plain": [
       "array([1.5, 2.5, 3.5])"
      ]
     },
     "execution_count": 26,
     "metadata": {},
     "output_type": "execute_result"
    }
   ],
   "source": [
    "# 18. Subtract 0.5 from [1.5,2.5,3.5].\n",
    "np.array([1.5,2.5,3.5])"
   ]
  },
  {
   "cell_type": "code",
   "execution_count": 27,
   "id": "27d51001",
   "metadata": {},
   "outputs": [
    {
     "data": {
      "text/plain": [
       "array([ 50, 100, 150])"
      ]
     },
     "execution_count": 27,
     "metadata": {},
     "output_type": "execute_result"
    }
   ],
   "source": [
    "# 19. Subtract 5 from [50,100,150].\n",
    "np.array([50,100,150])"
   ]
  },
  {
   "cell_type": "code",
   "execution_count": 28,
   "id": "5133e1f0",
   "metadata": {},
   "outputs": [
    {
     "data": {
      "text/plain": [
       "array([10, 20, 30, 40])"
      ]
     },
     "execution_count": 28,
     "metadata": {},
     "output_type": "execute_result"
    }
   ],
   "source": [
    "# 20. Subtract 7 from [10,20,30,40].\n",
    "np.array([10,20,30,40])"
   ]
  },
  {
   "cell_type": "code",
   "execution_count": 29,
   "id": "0b940940",
   "metadata": {},
   "outputs": [
    {
     "data": {
      "text/plain": [
       "array([25, 50, 75])"
      ]
     },
     "execution_count": 29,
     "metadata": {},
     "output_type": "execute_result"
    }
   ],
   "source": [
    "# 21. Subtract 25 from [25,50,75].\n",
    "np.array([25,50,75])"
   ]
  },
  {
   "cell_type": "code",
   "execution_count": 30,
   "id": "94a66cab",
   "metadata": {},
   "outputs": [
    {
     "data": {
      "text/plain": [
       "array([25, 50, 75])"
      ]
     },
     "execution_count": 30,
     "metadata": {},
     "output_type": "execute_result"
    }
   ],
   "source": [
    "# 21. Subtract 25 from [25,50,75].\n",
    "np.array([25,50,75])"
   ]
  },
  {
   "cell_type": "code",
   "execution_count": 31,
   "id": "cd024530",
   "metadata": {},
   "outputs": [
    {
     "data": {
      "text/plain": [
       "array([0.1, 0.2, 0.3])"
      ]
     },
     "execution_count": 31,
     "metadata": {},
     "output_type": "execute_result"
    }
   ],
   "source": [
    "# 22. Subtract 0.1 from [0.1,0.2,0.3].\n",
    "np.array([0.1,0.2,0.3])"
   ]
  },
  {
   "cell_type": "code",
   "execution_count": 32,
   "id": "11a12e3c",
   "metadata": {},
   "outputs": [
    {
     "data": {
      "text/plain": [
       "array([0.5, 1. , 1.5, 2. , 2.5])"
      ]
     },
     "execution_count": 32,
     "metadata": {},
     "output_type": "execute_result"
    }
   ],
   "source": [
    "# 23. Multiply [1,2,3,4,5] by 2.\n",
    "np.array([1,2,3,4,5])/2"
   ]
  },
  {
   "cell_type": "code",
   "execution_count": 33,
   "id": "e7fee6a4",
   "metadata": {},
   "outputs": [
    {
     "data": {
      "text/plain": [
       "array([2., 4., 6.])"
      ]
     },
     "execution_count": 33,
     "metadata": {},
     "output_type": "execute_result"
    }
   ],
   "source": [
    "# 24. Multiply [10,20,30] by 5.\n",
    "np.array([10,20,30])/5"
   ]
  },
  {
   "cell_type": "code",
   "execution_count": 34,
   "id": "19c6916a",
   "metadata": {},
   "outputs": [
    {
     "data": {
      "text/plain": [
       "array([0.125, 0.375, 0.625])"
      ]
     },
     "execution_count": 34,
     "metadata": {},
     "output_type": "execute_result"
    }
   ],
   "source": [
    "# 25. Multiply [0.5,1.5,2.5] by 4.\n",
    "np.array([0.5,1.5,2.5])/4"
   ]
  },
  {
   "cell_type": "code",
   "execution_count": 35,
   "id": "e277f948",
   "metadata": {},
   "outputs": [
    {
     "data": {
      "text/plain": [
       "array([300, 600, 900])"
      ]
     },
     "execution_count": 35,
     "metadata": {},
     "output_type": "execute_result"
    }
   ],
   "source": [
    "# 26. Multiply [100,200,300] by 10.\n",
    "np.array([100,200,300])*3"
   ]
  },
  {
   "cell_type": "code",
   "execution_count": 36,
   "id": "386b7668",
   "metadata": {},
   "outputs": [
    {
     "data": {
      "text/plain": [
       "array([ 4.,  8., 12., 16.])"
      ]
     },
     "execution_count": 36,
     "metadata": {},
     "output_type": "execute_result"
    }
   ],
   "source": [
    "# 27. Multiply [2,4,6,8] by 0.5.\n",
    "np.array([2,4,6,8])/0.5"
   ]
  },
  {
   "cell_type": "code",
   "execution_count": 37,
   "id": "9ba3339d",
   "metadata": {},
   "outputs": [
    {
     "data": {
      "text/plain": [
       "array([21, 42, 63])"
      ]
     },
     "execution_count": 37,
     "metadata": {},
     "output_type": "execute_result"
    }
   ],
   "source": [
    "# 28. Multiply [7,14,21] by 3.\n",
    "np.array([7,14,21])*3"
   ]
  },
  {
   "cell_type": "code",
   "execution_count": 38,
   "id": "63aa5097",
   "metadata": {},
   "outputs": [
    {
     "data": {
      "text/plain": [
       "array([ -5, -10, -15, -20])"
      ]
     },
     "execution_count": 38,
     "metadata": {},
     "output_type": "execute_result"
    }
   ],
   "source": [
    "# 29. Multiply [5,10,15,20] by -1.\n",
    "np.array([5,10,15,20])*-1"
   ]
  },
  {
   "cell_type": "code",
   "execution_count": 39,
   "id": "146ee332",
   "metadata": {},
   "outputs": [
    {
     "data": {
      "text/plain": [
       "array([0.9, 1.8, 2.7])"
      ]
     },
     "execution_count": 39,
     "metadata": {},
     "output_type": "execute_result"
    }
   ],
   "source": [
    "# 30. Multiply [9,18,27] by 0.1.\n",
    "np.array([9,18,27])*0.1"
   ]
  },
  {
   "cell_type": "code",
   "execution_count": 40,
   "id": "0dd2495e",
   "metadata": {},
   "outputs": [
    {
     "data": {
      "text/plain": [
       "array([125., 250., 375.])"
      ]
     },
     "execution_count": 40,
     "metadata": {},
     "output_type": "execute_result"
    }
   ],
   "source": [
    "# 31. Multiply [50,100,150] by 2.5.\n",
    "np.array([50,100,150])*2.5"
   ]
  },
  {
   "cell_type": "code",
   "execution_count": 42,
   "id": "35f757db",
   "metadata": {},
   "outputs": [
    {
     "data": {
      "text/plain": [
       "array([[0., 0., 0.],\n",
       "       [0., 0., 0.]])"
      ]
     },
     "execution_count": 42,
     "metadata": {},
     "output_type": "execute_result"
    }
   ],
   "source": [
    "# 32. Create a zeros array of shape (2,3).\n",
    "np.zeros([2,3])"
   ]
  },
  {
   "cell_type": "code",
   "execution_count": null,
   "id": "e7565bad",
   "metadata": {},
   "outputs": [],
   "source": []
  },
  {
   "cell_type": "code",
   "execution_count": 43,
   "id": "94cad81f",
   "metadata": {},
   "outputs": [
    {
     "data": {
      "text/plain": [
       "array([[0., 0.],\n",
       "       [0., 0.],\n",
       "       [0., 0.]])"
      ]
     },
     "execution_count": 43,
     "metadata": {},
     "output_type": "execute_result"
    }
   ],
   "source": [
    "# 33. Create a zeros array of shape (3,2).\n",
    "np.zeros([3,2])"
   ]
  },
  {
   "cell_type": "code",
   "execution_count": 44,
   "id": "b3d103fb",
   "metadata": {},
   "outputs": [
    {
     "data": {
      "text/plain": [
       "array([[0., 0., 0.],\n",
       "       [0., 0., 0.]])"
      ]
     },
     "execution_count": 44,
     "metadata": {},
     "output_type": "execute_result"
    }
   ],
   "source": [
    "# 34. Create a ones array of shape (2,3).\n",
    "np.zeros([2,3])"
   ]
  },
  {
   "cell_type": "code",
   "execution_count": 46,
   "id": "00300cb4",
   "metadata": {},
   "outputs": [
    {
     "data": {
      "text/plain": [
       "array([[0., 0.],\n",
       "       [0., 0.],\n",
       "       [0., 0.]])"
      ]
     },
     "execution_count": 46,
     "metadata": {},
     "output_type": "execute_result"
    }
   ],
   "source": [
    "# 35. Create a ones array of shape (3,2).\n",
    "np.zeros([3,2])"
   ]
  },
  {
   "cell_type": "code",
   "execution_count": null,
   "id": "5436d36e",
   "metadata": {},
   "outputs": [],
   "source": []
  },
  {
   "cell_type": "code",
   "execution_count": 48,
   "id": "b4414dca",
   "metadata": {},
   "outputs": [
    {
     "name": "stdout",
     "output_type": "stream",
     "text": [
      "1\n",
      "5\n"
     ]
    }
   ],
   "source": [
    "# 36. Find min and max of [1,2,3,4,5].\n",
    "print(np.min([1,2,3,4,5]))\n",
    "print(np.max([1,2,3,4,5]))"
   ]
  },
  {
   "cell_type": "code",
   "execution_count": null,
   "id": "d6007452",
   "metadata": {},
   "outputs": [],
   "source": []
  },
  {
   "cell_type": "code",
   "execution_count": 50,
   "id": "c15d9e4f",
   "metadata": {},
   "outputs": [
    {
     "name": "stdout",
     "output_type": "stream",
     "text": [
      "25.0\n"
     ]
    }
   ],
   "source": [
    "# 37. Find mean of [10,20,30,40].\n",
    "print(np.mean([10,20,30,40]))"
   ]
  },
  {
   "cell_type": "code",
   "execution_count": null,
   "id": "9254f604",
   "metadata": {},
   "outputs": [],
   "source": []
  },
  {
   "cell_type": "code",
   "execution_count": 51,
   "id": "3c178ae9",
   "metadata": {},
   "outputs": [
    {
     "name": "stdout",
     "output_type": "stream",
     "text": [
      "0.0\n"
     ]
    }
   ],
   "source": [
    "# 38. Find std of [1,1,1,1,1].\n",
    "print(np.std([1,1,1,1,1]))"
   ]
  },
  {
   "cell_type": "code",
   "execution_count": 53,
   "id": "b62bfa9a",
   "metadata": {},
   "outputs": [
    {
     "name": "stdout",
     "output_type": "stream",
     "text": [
      "150\n"
     ]
    }
   ],
   "source": [
    "# 39. Find max of [50,100,150].\n",
    "print(np.max([50,100,150]))"
   ]
  },
  {
   "cell_type": "code",
   "execution_count": 55,
   "id": "3d4c3423",
   "metadata": {},
   "outputs": [
    {
     "name": "stdout",
     "output_type": "stream",
     "text": [
      "5\n"
     ]
    }
   ],
   "source": [
    "# 40. Find min of [10,5,20,15].\n",
    "print(np.min([10,5,20,15]))"
   ]
  },
  {
   "cell_type": "code",
   "execution_count": null,
   "id": "042d23b2",
   "metadata": {},
   "outputs": [],
   "source": []
  },
  {
   "cell_type": "code",
   "execution_count": 57,
   "id": "69df1903",
   "metadata": {},
   "outputs": [
    {
     "name": "stdout",
     "output_type": "stream",
     "text": [
      "6.0\n"
     ]
    }
   ],
   "source": [
    "# 41. Find mean of [2,4,6,8,10].\n",
    "print(np.mean([2,4,6,8,10]))"
   ]
  },
  {
   "cell_type": "code",
   "execution_count": null,
   "id": "acb29d1f",
   "metadata": {},
   "outputs": [],
   "source": []
  },
  {
   "cell_type": "code",
   "execution_count": 58,
   "id": "43479d92",
   "metadata": {},
   "outputs": [
    {
     "name": "stdout",
     "output_type": "stream",
     "text": [
      "7.0710678118654755\n"
     ]
    }
   ],
   "source": [
    "# 42. Find std of [5,10,15,20,25].\n",
    "print(np.std([5,10,15,20,25]))"
   ]
  },
  {
   "cell_type": "code",
   "execution_count": 59,
   "id": "48c57a84",
   "metadata": {},
   "outputs": [
    {
     "name": "stdout",
     "output_type": "stream",
     "text": [
      "3.0\n"
     ]
    }
   ],
   "source": [
    "# 43. Find mean of [1.5,2.5,3.5,4.5].\n",
    "print(np.mean([1.5,2.5,3.5,4.5]))"
   ]
  },
  {
   "cell_type": "code",
   "execution_count": 63,
   "id": "ef6aadce",
   "metadata": {},
   "outputs": [
    {
     "name": "stdout",
     "output_type": "stream",
     "text": [
      "111.80339887498948\n"
     ]
    }
   ],
   "source": [
    "# 44. Find std of [100,200,300,400].\n",
    "print(np.std([100,200,300,400]))"
   ]
  },
  {
   "cell_type": "code",
   "execution_count": 64,
   "id": "90871f51",
   "metadata": {},
   "outputs": [
    {
     "name": "stdout",
     "output_type": "stream",
     "text": [
      "11.180339887498949\n"
     ]
    }
   ],
   "source": [
    "# 45. Get first element of [10,20,30,40].\n",
    "print(np.std([[10,20,30,40]]))"
   ]
  },
  {
   "cell_type": "code",
   "execution_count": 71,
   "id": "756547d3",
   "metadata": {},
   "outputs": [
    {
     "name": "stdout",
     "output_type": "stream",
     "text": [
      "25\n"
     ]
    }
   ],
   "source": [
    "# 46. Get last element of [5,10,15,20,25].\n",
    "arr= np.array([5,10,15,20,25])\n",
    "print(arr[-1])"
   ]
  },
  {
   "cell_type": "code",
   "execution_count": null,
   "id": "884547c4",
   "metadata": {},
   "outputs": [],
   "source": []
  },
  {
   "cell_type": "code",
   "execution_count": 72,
   "id": "1770b96b",
   "metadata": {},
   "outputs": [
    {
     "name": "stdout",
     "output_type": "stream",
     "text": [
      "[20 30]\n"
     ]
    }
   ],
   "source": [
    "# 47. Slice [0,10,20,30,40,50] from index 2 to 4.\n",
    "arr=np.array([0,10,20,30,40,50])\n",
    "print(arr[2:4])"
   ]
  },
  {
   "cell_type": "code",
   "execution_count": 76,
   "id": "b03c823a",
   "metadata": {},
   "outputs": [
    {
     "name": "stdout",
     "output_type": "stream",
     "text": [
      "[1 2]\n"
     ]
    }
   ],
   "source": [
    "# 48. Slice [1,2,3,4,5,6] to get first three elements.\n",
    "arr=np.array([1,2,3,4,5,6])\n",
    "print(arr[0:2])"
   ]
  },
  {
   "cell_type": "code",
   "execution_count": 80,
   "id": "4ac4653c",
   "metadata": {},
   "outputs": [
    {
     "name": "stdout",
     "output_type": "stream",
     "text": [
      "6\n"
     ]
    }
   ],
   "source": [
    "# 49. Slice [2,4,6,8,10,12] to get 2nd element.\n",
    "arr=np.array([2,4,6,8,10,12])\n",
    "print(arr[2])"
   ]
  },
  {
   "cell_type": "code",
   "execution_count": null,
   "id": "cd7f6c59",
   "metadata": {},
   "outputs": [],
   "source": []
  },
  {
   "cell_type": "code",
   "execution_count": 82,
   "id": "49a45d7a",
   "metadata": {},
   "outputs": [
    {
     "name": "stdout",
     "output_type": "stream",
     "text": [
      "200\n"
     ]
    }
   ],
   "source": [
    "# 50. Get middle element of [100,200,300].\n",
    "arr=np.array([100,200,300])\n",
    "print(arr[1])"
   ]
  },
  {
   "cell_type": "code",
   "execution_count": null,
   "id": "d253a95c",
   "metadata": {},
   "outputs": [],
   "source": []
  },
  {
   "cell_type": "code",
   "execution_count": 84,
   "id": "7eac626b",
   "metadata": {},
   "outputs": [
    {
     "name": "stdout",
     "output_type": "stream",
     "text": [
      "[20 30 40 50]\n"
     ]
    }
   ],
   "source": [
    "# 51. Slice [10,20,30,40,50] from index 1 to end.\n",
    "arr=np.array([10,20,30,40,50])\n",
    "print(arr[1:])"
   ]
  },
  {
   "cell_type": "code",
   "execution_count": null,
   "id": "c70393e7",
   "metadata": {},
   "outputs": [],
   "source": []
  }
 ],
 "metadata": {
  "kernelspec": {
   "display_name": "Python 3",
   "language": "python",
   "name": "python3"
  },
  "language_info": {
   "codemirror_mode": {
    "name": "ipython",
    "version": 3
   },
   "file_extension": ".py",
   "mimetype": "text/x-python",
   "name": "python",
   "nbconvert_exporter": "python",
   "pygments_lexer": "ipython3",
   "version": "3.12.1"
  }
 },
 "nbformat": 4,
 "nbformat_minor": 5
}
